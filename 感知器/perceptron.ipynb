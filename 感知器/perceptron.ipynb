{
 "cells": [
  {
   "cell_type": "code",
   "execution_count": 1,
   "metadata": {
    "collapsed": true
   },
   "outputs": [],
   "source": [
    "import numpy as np"
   ]
  },
  {
   "cell_type": "code",
   "execution_count": 134,
   "metadata": {},
   "outputs": [],
   "source": [
    "#原始形式的感知机\n",
    "def fit(X,y,lr=1,it=300):  \n",
    "    x,y = np.asarray(X,np.float32),np.asarray(y,np.float32)\n",
    "    w = np.zeros(x.shape[1])\n",
    "    b = 0\n",
    "    #通过真实值和预测值相乘来直到到底是谁被错误分类\n",
    "    #拿到index就是被错误分类的数据点，之后更新w和b\n",
    "    #一直迭代这个过程，直到最后完全正确分类\n",
    "    for _ in range(it):\n",
    "        y_pred = x.dot(w) + b\n",
    "        index = np.argmax(np.maximum(0,-y_pred*y))\n",
    "        if y[index] * y_pred[index] > 0 :\n",
    "            break\n",
    "        else:\n",
    "            w = w + lr*y[index]*x[index]\n",
    "            b = b + lr*y[index]\n",
    "        print w,b\n",
    "            \n",
    "    "
   ]
  },
  {
   "cell_type": "code",
   "execution_count": 135,
   "metadata": {
    "collapsed": true
   },
   "outputs": [],
   "source": [
    "train_set = [(3,3),(4,3),(1,1)]\n",
    "y = [1,1,-1]"
   ]
  },
  {
   "cell_type": "code",
   "execution_count": 136,
   "metadata": {},
   "outputs": [
    {
     "name": "stdout",
     "output_type": "stream",
     "text": [
      "[ 3.  3.] 1.0\n",
      "[ 2.  2.] 0.0\n",
      "[ 1.  1.] -1.0\n",
      "[ 0.  0.] -2.0\n",
      "[ 3.  3.] -1.0\n",
      "[ 2.  2.] -2.0\n",
      "[ 1.  1.] -3.0\n"
     ]
    }
   ],
   "source": [
    "fit(train_set,y)"
   ]
  },
  {
   "cell_type": "code",
   "execution_count": null,
   "metadata": {
    "collapsed": true
   },
   "outputs": [],
   "source": []
  }
 ],
 "metadata": {
  "kernelspec": {
   "display_name": "Python 2",
   "language": "python",
   "name": "python2"
  },
  "language_info": {
   "codemirror_mode": {
    "name": "ipython",
    "version": 2
   },
   "file_extension": ".py",
   "mimetype": "text/x-python",
   "name": "python",
   "nbconvert_exporter": "python",
   "pygments_lexer": "ipython2",
   "version": "2.7.13"
  }
 },
 "nbformat": 4,
 "nbformat_minor": 2
}
