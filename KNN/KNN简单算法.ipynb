{
 "cells": [
  {
   "cell_type": "code",
   "execution_count": 3,
   "metadata": {
    "collapsed": true
   },
   "outputs": [],
   "source": [
    "import numpy as np\n",
    "import operator"
   ]
  },
  {
   "cell_type": "code",
   "execution_count": 7,
   "metadata": {
    "collapsed": true
   },
   "outputs": [],
   "source": [
    "#KNN算法的简单实现\n",
    "def classify(testX,train,labeks,k):\n",
    "    \"\"\"\n",
    "    testX:测试数据\n",
    "    train：训练数据\n",
    "    labels：训练数据的标签\n",
    "    k：和测试数据最相近k个点\n",
    "    \"\"\"\n",
    "    dataSetSizes = train.shape[0]\n",
    "    \n",
    "    \"\"\"\n",
    "    这里现在需要做的就是找出测试数据点和训练样本点之间的距离\n",
    "    根据训练样本点的大小来复制\n",
    "    \"\"\"\n",
    "    diffMat = np.tile(testX,(dataSetSizes,1)) - train\n",
    "    sqDiffMat = diffMat**2 \n",
    "    sqDistance = sqDiffMat.sum(axis=1)\n",
    "    distance = sqDistance ** 0.5\n",
    "    sortIndex = distance.argsort()#这里获取的是排序的索引\n",
    "    \n",
    "    classCount = {}\n",
    "    for i in range(k):\n",
    "        #获取排序之后的前k个值\n",
    "        index = sortIndex[i]\n",
    "        voteLabel = labels[index]\n",
    "        #记录每个标签出现的次数\n",
    "        classCount[voteLabel] = classCount.get(voteLabel,0) + 1\n",
    "    \n",
    "    #获取标签统计中最大值就是我们目标的分类\n",
    "    #key代表的是根据值来排序，reverse =True是从小到大来排序\n",
    "    #第一个参数迭代的类型 classCount.iteritems 返回的是迭代器\n",
    "    print classCount\n",
    "    finalTarget = sorted(classCount.iteritems(),key=operator.itemgetter(1),reverse=True)\n",
    "    return  finalTarget[0][0]"
   ]
  },
  {
   "cell_type": "code",
   "execution_count": 8,
   "metadata": {},
   "outputs": [],
   "source": [
    "def createDataSet():\n",
    "    group = np.array([[1.0,1.1],[1.0,1.0],[0.,0.1],[0.,0.1]])\n",
    "    labels = ['A','A','B','B']\n",
    "    return group,labels"
   ]
  },
  {
   "cell_type": "code",
   "execution_count": 9,
   "metadata": {},
   "outputs": [
    {
     "name": "stdout",
     "output_type": "stream",
     "text": [
      "{'A': 1, 'B': 2}\n"
     ]
    },
    {
     "data": {
      "text/plain": [
       "'B'"
      ]
     },
     "execution_count": 9,
     "metadata": {},
     "output_type": "execute_result"
    }
   ],
   "source": [
    "group,labels = createDataSet()\n",
    "classify([0.1,0.1],group,labels,k=3)"
   ]
  },
  {
   "cell_type": "code",
   "execution_count": null,
   "metadata": {
    "collapsed": true
   },
   "outputs": [],
   "source": []
  }
 ],
 "metadata": {
  "kernelspec": {
   "display_name": "Python 2",
   "language": "python",
   "name": "python2"
  },
  "language_info": {
   "codemirror_mode": {
    "name": "ipython",
    "version": 2
   },
   "file_extension": ".py",
   "mimetype": "text/x-python",
   "name": "python",
   "nbconvert_exporter": "python",
   "pygments_lexer": "ipython2",
   "version": "2.7.13"
  }
 },
 "nbformat": 4,
 "nbformat_minor": 2
}
