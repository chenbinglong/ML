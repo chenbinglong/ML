{
 "cells": [
  {
   "cell_type": "markdown",
   "metadata": {},
   "source": [
    "#### 使用sklearn中自带的KNN算法来预测我们的数据"
   ]
  },
  {
   "cell_type": "code",
   "execution_count": 24,
   "metadata": {},
   "outputs": [],
   "source": [
    "import numpy as np\n",
    "from sklearn.neighbors import KNeighborsClassifier \n",
    "from sklearn.metrics import precision_recall_curve\n",
    "from sklearn.metrics import classification_report#预测精确率，召回率，F1分数\n",
    "from sklearn.cross_validation import train_test_split\n",
    "import matplotlib.pyplot as plt\n"
   ]
  },
  {
   "cell_type": "code",
   "execution_count": 25,
   "metadata": {
    "collapsed": true
   },
   "outputs": [],
   "source": [
    "def file2Matrix(fileName):\n",
    "    \"\"\"\n",
    "    从文件读取训练数据，并存储为矩阵\n",
    "    \"\"\"\n",
    "    returnMat   = []\n",
    "    classLabelVector = []\n",
    "    with open(fileName) as ifile:  \n",
    "        for line in ifile: \n",
    "            tokens = line.strip().split(' ')\n",
    "            returnMat.append([float(tk) for tk in tokens[:-1]])  \n",
    "            classLabelVector.append(tokens[-1])\n",
    "    X = np.array(returnMat)\n",
    "    lables = np.array(classLabelVector)\n",
    "    Y = np.zeros(lables.shape)\n",
    "    Y[lables == 'fat'] = 1\n",
    "    return X,Y"
   ]
  },
  {
   "cell_type": "code",
   "execution_count": 30,
   "metadata": {},
   "outputs": [
    {
     "data": {
      "text/plain": [
       "KNeighborsClassifier(algorithm='kd_tree', leaf_size=30, metric='minkowski',\n",
       "           metric_params=None, n_jobs=1, n_neighbors=5, p=2,\n",
       "           weights='uniform')"
      ]
     },
     "execution_count": 30,
     "metadata": {},
     "output_type": "execute_result"
    }
   ],
   "source": [
    "x_train,x_test,y_train,y_test = train_test_split(X,Y,test_size = 0.2)\n",
    "clf = KNeighborsClassifier(algorithm = 'kd_tree')\n",
    "clf.fit(x_train,y_train)"
   ]
  },
  {
   "cell_type": "code",
   "execution_count": 32,
   "metadata": {},
   "outputs": [
    {
     "name": "stdout",
     "output_type": "stream",
     "text": [
      "[ 1.  1.  1.  0.  0.  1.  1.  0.  0.  0.  1.  0.  1.  1.  1.  1.  1.]\n",
      "[ 0.  1.  1.  0.  0.  1.  1.  0.  0.  1.  1.  0.  0.  1.  1.  0.  1.]\n",
      "0.764705882353\n"
     ]
    }
   ],
   "source": [
    "'''''测试结果的打印'''  \n",
    "answer = clf.predict(x) \n",
    "print(answer)  \n",
    "print(y)  \n",
    "print(np.mean( answer == y)) "
   ]
  },
  {
   "cell_type": "code",
   "execution_count": null,
   "metadata": {
    "collapsed": true
   },
   "outputs": [],
   "source": []
  }
 ],
 "metadata": {
  "kernelspec": {
   "display_name": "Python 2",
   "language": "python",
   "name": "python2"
  },
  "language_info": {
   "codemirror_mode": {
    "name": "ipython",
    "version": 2
   },
   "file_extension": ".py",
   "mimetype": "text/x-python",
   "name": "python",
   "nbconvert_exporter": "python",
   "pygments_lexer": "ipython2",
   "version": "2.7.13"
  }
 },
 "nbformat": 4,
 "nbformat_minor": 2
}
