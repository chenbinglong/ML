{
 "cells": [
  {
   "cell_type": "markdown",
   "metadata": {},
   "source": [
    "## 之前的是直接写死的数据，但我们经常会从本地读入数据"
   ]
  },
  {
   "cell_type": "code",
   "execution_count": 5,
   "metadata": {
    "collapsed": true
   },
   "outputs": [],
   "source": [
    "import numpy as np\n",
    "import operator"
   ]
  },
  {
   "cell_type": "code",
   "execution_count": 146,
   "metadata": {
    "collapsed": true
   },
   "outputs": [],
   "source": [
    "def classify(testX,train,labeks,k):\n",
    "    \"\"\"\n",
    "    testX:测试数据\n",
    "    train：训练数据\n",
    "    labels：训练数据的标签\n",
    "    k：和测试数据最相近k个点\n",
    "    \"\"\"\n",
    "    dataSetSizes = train.shape[0]\n",
    "    \n",
    "    \"\"\"\n",
    "    这里现在需要做的就是找出测试数据点和训练样本点之间的距离\n",
    "    根据训练样本点的大小来复制\n",
    "    \"\"\"\n",
    "    diffMat = np.tile(testX,(dataSetSizes,1)) - train\n",
    "    sqDiffMat = diffMat**2 \n",
    "    sqDistance = sqDiffMat.sum(axis=1)\n",
    "    distance = sqDistance ** 0.5\n",
    "    sortIndex = distance.argsort()\n",
    "    \n",
    "    classCount = {}\n",
    "    for i in range(k):\n",
    "        index = sortIndex[i]\n",
    "        voteLabel = labels[index]\n",
    "        classCount[voteLabel] = classCount.get(voteLabel,0) + 1\n",
    "        \n",
    "    finalTarget = sorted(classCount.iteritems(),key=operator.itemgetter(1),reverse=True)\n",
    "    return  finalTarget[0][0]"
   ]
  },
  {
   "cell_type": "code",
   "execution_count": 147,
   "metadata": {
    "collapsed": true
   },
   "outputs": [],
   "source": [
    "def file2Matrix(fileName):\n",
    "    \"\"\"\n",
    "    从文件读取训练数据，并存储为矩阵\n",
    "    \"\"\"\n",
    "    returnMat   = []\n",
    "    classLabelVector = []\n",
    "    with open(fileName) as ifile:  \n",
    "        for line in ifile: \n",
    "            tokens = line.strip().split(' ')\n",
    "            returnMat.append([float(tk) for tk in tokens[:-1]])  \n",
    "            classLabelVector.append(tokens[-1])\n",
    "    return np.array(returnMat),np.array(classLabelVector)"
   ]
  },
  {
   "cell_type": "code",
   "execution_count": 137,
   "metadata": {
    "collapsed": true
   },
   "outputs": [],
   "source": [
    "#在这里进行归一化的目的就是防止某些数据点差异太大影响预测的结果\n",
    "def autoNorm(dataSet):\n",
    "    \"\"\"\n",
    "    把训练的数据都归一化，归一化的方式才用的极差归一化控制在[0,1]的范围内\n",
    "    公式：m - min /  max - min m就是矩阵\n",
    "    [1]获取每列的最大值1和最小值，求得两个之差\n",
    "    [2]创建存储归一化数据的矩阵，大小和原矩阵一样\n",
    "    [3]计算每个元素的归一化\n",
    "    \"\"\"\n",
    "    minVals = dataSet.min(0)\n",
    "    maxVals = dataSet.max(0)\n",
    "    ranges = maxVals - minVals\n",
    "    \n",
    "    normDataSet = np.zeros(np.shape(dataSet))\n",
    "    m = dataSet.shape[0]\n",
    "    normDataSet = dataSet - np.tile(minVals,(m,1))\n",
    "    normDataSet = normDataSet/np.tile(ranges,(m,1))\n",
    "    \n",
    "    return normDataSet, ranges, minVals"
   ]
  },
  {
   "cell_type": "code",
   "execution_count": 182,
   "metadata": {
    "collapsed": true
   },
   "outputs": [],
   "source": [
    "def startClass():\n",
    "    \"\"\"\n",
    "    ration：取总数据的20%作为训练数据\n",
    "    \"\"\"\n",
    "    ration = 0.20  \n",
    "    datingDataMat,datingLabels = file2Matrix(\"dataTrain.txt\")       #load data setfrom file  \n",
    "    normMat, ranges, minVals = autoNorm(datingDataMat)  \n",
    "    m = normMat.shape[0]  \n",
    "    numTestVecs = int(m*ration) \n",
    "    errorCount = 0.0 \n",
    "    for i in range(numTestVecs):\n",
    "        classifierResult = classify(normMat[i,:],normMat[numTestVecs:m,:],datingLabels[numTestVecs:m],4)\n",
    "        if (classifierResult != datingLabels[i]): \n",
    "            errorCount += 1.0  \n",
    "            \n",
    "    print \"the total error rate is: %f\" % (errorCount/float(numTestVecs))  "
   ]
  },
  {
   "cell_type": "code",
   "execution_count": 183,
   "metadata": {},
   "outputs": [
    {
     "name": "stdout",
     "output_type": "stream",
     "text": [
      "the total error rate is: 0.666667\n"
     ]
    }
   ],
   "source": [
    "startClass()"
   ]
  },
  {
   "cell_type": "code",
   "execution_count": null,
   "metadata": {
    "collapsed": true
   },
   "outputs": [],
   "source": []
  }
 ],
 "metadata": {
  "kernelspec": {
   "display_name": "Python 2",
   "language": "python",
   "name": "python2"
  },
  "language_info": {
   "codemirror_mode": {
    "name": "ipython",
    "version": 2
   },
   "file_extension": ".py",
   "mimetype": "text/x-python",
   "name": "python",
   "nbconvert_exporter": "python",
   "pygments_lexer": "ipython2",
   "version": "2.7.13"
  }
 },
 "nbformat": 4,
 "nbformat_minor": 2
}
